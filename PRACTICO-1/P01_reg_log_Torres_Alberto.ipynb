{
  "cells": [
    {
      "cell_type": "markdown",
      "metadata": {
        "id": "9L0KhPHmJVNa"
      },
      "source": [
        "# PRACTICO 1 - Regresión Logistica\n",
        "\n",
        "ALUMNO: Torres Loayza Alberto Antonio\n",
        "\n",
        "En este ejercicio implementaremos regresión logística y la aplicaremos a un conjunto de datos de cáncer de mama para clasificar tumores como benignos o malignos basados en características celulares."
      ]
    },
    {
      "cell_type": "code",
      "execution_count": 7,
      "metadata": {
        "id": "Eg6cIE74JVNd"
      },
      "outputs": [],
      "source": [
        "import numpy as np\n",
        "from matplotlib import pyplot\n",
        "import pandas as pd\n",
        "%matplotlib inline"
      ]
    },
    {
      "cell_type": "markdown",
      "metadata": {
        "id": "t52vBnb_JVNe"
      },
      "source": [
        "## 1 Regresion Logistica\n",
        "\n",
        "En esta parte del ejercicio, crearemos un modelo de regresión logística para predecir si un tumor es benigno o maligno. Los datos contienen características de células extraídas de biopsias, y nuestro objetivo es crear un modelo de clasificación que calcule la probabilidad de malignidad basado en estas características.\n",
        "\n",
        "La siguiente celda cargará los datos y las etiquetas correspondientes:"
      ]
    },
    {
      "cell_type": "code",
      "execution_count": 30,
      "metadata": {
        "colab": {
          "base_uri": "https://localhost:8080/"
        },
        "id": "WVzUelTXJVNe",
        "outputId": "265c59ac-160c-4338-ed29-74ce0ae3fb04"
      },
      "outputs": [
        {
          "name": "stdout",
          "output_type": "stream",
          "text": [
            "\n",
            "Distribución de clases después de la transformación:\n",
            "Class\n",
            "0    444\n",
            "1    239\n",
            "Name: count, dtype: int64\n",
            "\n",
            "Primeras 5 filas de características:\n",
            "[[ 5  1  1  1  2  1  3  1  1]\n",
            " [ 5  4  4  5  7 10  3  2  1]\n",
            " [ 3  1  1  1  2  2  3  1  1]\n",
            " [ 6  8  8  1  3  4  3  7  1]\n",
            " [ 4  1  1  3  2  1  3  1  1]]\n",
            "\n",
            "Primeras 5 etiquetas:\n",
            "[0 0 0 0 0]\n"
          ]
        }
      ],
      "source": [
        "# Cargamos los datos\n",
        "data = pd.read_csv('breast_cancer.csv')\n",
        "\n",
        "# En el conjunto de datos original, 2 = benigno, 4 = maligno\n",
        "# Vamos a convertir estos a 0 (benigno) y 1 (maligno) para facilitar la implementación\n",
        "data['Class'] = data['Class'].map({2: 0, 4: 1})\n",
        "print(\"\\nDistribución de clases después de la transformación:\")\n",
        "print(data['Class'].value_counts())\n",
        "\n",
        "# Extraemos las características y las etiquetas\n",
        "X = data.iloc[:, :-1].values  # Todas las columnas excepto la última\n",
        "y = data.iloc[:, -1].values   # Solo la última columna (Class)\n",
        "\n",
        "print(\"\\nPrimeras 5 filas de características:\")\n",
        "print(X[:5])\n",
        "print(\"\\nPrimeras 5 etiquetas:\")\n",
        "print(y[:5])"
      ]
    },
    {
      "cell_type": "markdown",
      "metadata": {
        "id": "5wAs5p25JVNf"
      },
      "source": [
        "### 1.1 Visualizar los datos\n",
        "\n",
        "Antes de comenzar a implementar cualquier algoritmo de aprendizaje, es bueno visualizar los datos si es posible. Vamos a mostrar algunas de las características más relevantes para ver cómo se distribuyen los datos."
      ]
    },
    {
      "cell_type": "code",
      "execution_count": 14,
      "metadata": {
        "id": "PU2IfSLdJVNf"
      },
      "outputs": [],
      "source": [
        "def plotData(X, y):\n",
        "    \"\"\"\n",
        "    Grafica los puntos de datos X y <y> en una nueva figura. \n",
        "    Grafica los puntos con + para los casos positivos (malignos) y \n",
        "    o para los negativos (benignos).\n",
        "    \n",
        "    Parámetros\n",
        "    ----------\n",
        "    X : array_like\n",
        "        Los puntos de datos. En este caso tomamos dos características para visualización.\n",
        "    \n",
        "    y : array_like\n",
        "        Las etiquetas de clase (0 o 1).\n",
        "    \"\"\"\n",
        "    # Crear una nueva figura\n",
        "    fig = pyplot.figure()\n",
        "\n",
        "    # Encontrar índices de ejemplos positivos y negativos\n",
        "    pos = y == 1\n",
        "    neg = y == 0\n",
        "\n",
        "    # Graficar ejemplos\n",
        "    pyplot.scatter(X[pos, 0], X[pos, 1], marker='+', c='k', s=60, linewidth=2)\n",
        "    pyplot.scatter(X[neg, 0], X[neg, 1], marker='o', c='y', s=40, edgecolors='k')\n"
      ]
    },
    {
      "cell_type": "markdown",
      "metadata": {
        "id": "llREAw-3JVNg"
      },
      "source": [
        "Se llama a la función implementada para mostrar los datos cargados:"
      ]
    },
    {
      "cell_type": "code",
      "execution_count": 15,
      "metadata": {
        "id": "8ynW5qI3JVNg"
      },
      "outputs": [
        {
          "data": {
            "image/png": "[encoded data removed]",
            "text/plain": [
              "<Figure size 640x480 with 1 Axes>"
            ]
          },
          "metadata": {},
          "output_type": "display_data"
        }
      ],
      "source": [
        "# Vamos a seleccionar dos características para visualización\n",
        "# Para este ejemplo usamos 'Clump Thickness' y 'Uniformity of Cell Size'\n",
        "X_viz = X[:, :2]\n",
        "plotData(X_viz, y)\n",
        "pyplot.xlabel('Grosor del Conglomerado')\n",
        "pyplot.ylabel('Uniformidad del Tamaño Celular')\n",
        "pyplot.legend(['Maligno', 'Benigno'])\n",
        "pyplot.title('Visualización de datos de cáncer de mama')\n",
        "pyplot.show()"
      ]
    },
    {
      "cell_type": "markdown",
      "metadata": {
        "id": "Pfpf9aEFJVNg"
      },
      "source": [
        "<a id=\"section1\"></a>\n",
        "### 1.2 Implementacion\n",
        "\n",
        "#### 1.2.1 Fución Sigmoidea\n",
        "\n",
        "La hipotesis para la regresión logistica se define como:\n",
        "\n",
        "$$ h_\\theta(x) = g(\\theta^T x)$$\n",
        "\n",
        "donde la función $g$ is la función sigmoidea. La función sigmoidea se define como:\n",
        "\n",
        "$$ g(z) = \\frac{1}{1+e^{-z}}$$\n",
        "\n",
        "Los resultados que debe generar la funcion sigmoidea para valores positivos amplios de `x`, deben ser cercanos a 1, mientras que para valores negativos grandes, la sigmoide debe generar valores cercanos 0. La evaluacion de `sigmoid(0)` debe dar un resultado exacto de 0.5. Esta funcion tambien debe poder trabajar con vectores y matrices."
      ]
    },
    {
      "cell_type": "code",
      "execution_count": 17,
      "metadata": {
        "id": "pk9dV23xJVNh"
      },
      "outputs": [],
      "source": [
        "def sigmoid(z):\n",
        "    \"\"\"\n",
        "    Calcula la sigmoide de una entrada z\n",
        "    \"\"\"\n",
        "    # Convierte la entrada a un arreglo numpy\n",
        "    z = np.array(z)\n",
        "\n",
        "    g = np.zeros(z.shape)\n",
        "\n",
        "    g = 1 / (1 + np.exp(-z))\n",
        "\n",
        "    return g"
      ]
    },
    {
      "cell_type": "markdown",
      "metadata": {
        "id": "uRsBEhsWJVNh"
      },
      "source": [
        "Se calcula el valor de la sigmoide aplicando la funcion sigmoid con `z=0`, se debe obtener un resultado de 0.5. RE recomienda experimentar con otros valores de `z`."
      ]
    },
    {
      "cell_type": "code",
      "execution_count": 8,
      "metadata": {
        "colab": {
          "base_uri": "https://localhost:8080/"
        },
        "id": "uIPk61NLJVNh",
        "outputId": "f8637a3c-abb4-4618-aebd-de770858ceb1"
      },
      "outputs": [
        {
          "name": "stdout",
          "output_type": "stream",
          "text": [
            "g( [0, 0.5, 1] ) =  [0.5        0.62245933 0.73105858]\n"
          ]
        }
      ],
      "source": [
        "# Prueba la implementacion de la funcion sigmoid\n",
        "z = [0, 0.5, 1]\n",
        "g = sigmoid(z)\n",
        "\n",
        "print('g(', z, ') = ', g)"
      ]
    },
    {
      "cell_type": "markdown",
      "metadata": {
        "id": "tDl3_8hvJVNi"
      },
      "source": [
        "<a id=\"section2\"></a>\n",
        "#### 1.2.2 Función de Costo y Gradiente\n",
        "\n",
        "Primero, agregaremos una columna de unos a X para incorporar el término de intercepción.\n"
      ]
    },
    {
      "cell_type": "code",
      "execution_count": 18,
      "metadata": {
        "id": "ELtMkiYDJVNi"
      },
      "outputs": [],
      "source": [
        "# Configurar la matriz adecuadamente, y agregar una columna de unos que corresponde al termino de intercepción.\n",
        "m, n = X.shape\n",
        "# Agraga el termino de intercepción a A\n",
        "X = np.concatenate([np.ones((m, 1)), X], axis=1)"
      ]
    },
    {
      "cell_type": "markdown",
      "metadata": {
        "id": "dREHB51mJVNi"
      },
      "source": [
        "La funcion de costo en una regresión logistica es:\n",
        "\n",
        "$$ J(\\theta) = \\frac{1}{m} \\sum_{i=1}^{m} \\left[ -y^{(i)} \\log\\left(h_\\theta\\left( x^{(i)} \\right) \\right) - \\left( 1 - y^{(i)}\\right) \\log \\left( 1 - h_\\theta\\left( x^{(i)} \\right) \\right) \\right]$$\n",
        "\n",
        "y el gradiente del costo es un vector de la misma longitud como $\\theta$ donde el elemento $j^{th}$ (para $j = 0, 1, \\cdots , n$) se define como:\n",
        "\n",
        "$$ \\frac{\\partial J(\\theta)}{\\partial \\theta_j} = \\frac{1}{m} \\sum_{i=1}^m \\left( h_\\theta \\left( x^{(i)} \\right) - y^{(i)} \\right) x_j^{(i)} $$\n",
        "\n",
        "Si bien este gradiente parece idéntico al gradiente de regresión lineal, la fórmula es diferente porque la regresión lineal y logística tienen diferentes definiciones de $h_\\theta(x)$.\n",
        "<a id=\"costFunction\"></a>"
      ]
    },
    {
      "cell_type": "code",
      "execution_count": 19,
      "metadata": {
        "id": "iqDZRIgjJVNi"
      },
      "outputs": [],
      "source": [
        "def calcularCosto(theta, X, y):\n",
        "    \"\"\"\n",
        "    Calcula el costo de usar theta como parámetro para la regresión logística\n",
        "    \"\"\"\n",
        "    # Inicializar algunos valores útiles\n",
        "    m = y.size  # número de ejemplos de entrenamiento\n",
        "\n",
        "    J = 0\n",
        "    h = sigmoid(X.dot(theta.T))\n",
        "    J = (1 / m) * np.sum(-y.dot(np.log(h)) - (1 - y).dot(np.log(1 - h)))\n",
        "\n",
        "    return J"
      ]
    },
    {
      "cell_type": "code",
      "execution_count": 20,
      "metadata": {
        "id": "7G4SjTrwJVNi"
      },
      "outputs": [],
      "source": [
        "def descensoGradiente(theta, X, y, alpha, num_iters):\n",
        "    \"\"\"\n",
        "    Implementa el descenso por el gradiente para aprender theta\n",
        "    \"\"\"\n",
        "    # Inicializa algunos valores\n",
        "    m = y.shape[0] # número de ejemplos de entrenamiento\n",
        "\n",
        "    # realiza una copia de theta, el cual será actualizado por el descenso por el gradiente\n",
        "    theta = theta.copy()\n",
        "    J_history = []\n",
        "\n",
        "    for i in range(num_iters):\n",
        "        h = sigmoid(X.dot(theta.T))\n",
        "        theta = theta - (alpha / m) * (h - y).dot(X)\n",
        "\n",
        "        J_history.append(calcularCosto(theta, X, y))\n",
        "    return theta, J_history"
      ]
    },
    {
      "cell_type": "code",
      "execution_count": 21,
      "metadata": {
        "id": "C2Qew-sRJVNj"
      },
      "outputs": [],
      "source": [
        "def costFunction(theta, X, y):\n",
        "    \"\"\"\n",
        "    Calcula el costo y el gradiente para regresión logística\n",
        "    \"\"\"\n",
        "    # Inicializar algunos valores útiles\n",
        "    m = y.size  # número de ejemplos de entrenamiento\n",
        "\n",
        "    J = 0\n",
        "    grad = np.zeros(theta.shape)\n",
        "\n",
        "    h = sigmoid(X.dot(theta.T))\n",
        "\n",
        "    J = (1 / m) * np.sum(-y.dot(np.log(h)) - (1 - y).dot(np.log(1 - h)))\n",
        "    grad = (1 / m) * (h - y).dot(X)\n",
        "\n",
        "    return J, grad"
      ]
    },
    {
      "cell_type": "markdown",
      "metadata": {
        "id": "1ioLXhR5JVNj"
      },
      "source": [
        "Se prueba la funcion `costFunction` utilizando dos casos de prueba para $\\theta$."
      ]
    },
    {
      "cell_type": "code",
      "execution_count": 22,
      "metadata": {
        "colab": {
          "base_uri": "https://localhost:8080/"
        },
        "id": "j7Fe_xEZJVNj",
        "outputId": "cda01e96-a071-4ce8-bbcb-543ba7c6f087"
      },
      "outputs": [
        {
          "name": "stdout",
          "output_type": "stream",
          "text": [
            "Parámetros iniciales: [0. 0. 0. 0. 0. 0. 0. 0. 0. 0.]\n",
            "Costo con theta inicializado en ceros: 0.693\n",
            "Gradiente en theta inicial (primeros 5 valores): [ 0.15007321 -0.2942899  -0.72620791 -0.68814056 -0.53953148]\n"
          ]
        }
      ],
      "source": [
        "# Iniciamos los parámetros con ceros\n",
        "initial_theta = np.zeros(n+1)\n",
        "print(\"Parámetros iniciales:\", initial_theta)\n",
        "\n",
        "# Calculamos el costo con los parámetros iniciales\n",
        "cost, grad = costFunction(initial_theta, X, y)\n",
        "\n",
        "print('Costo con theta inicializado en ceros: {:.3f}'.format(cost))\n",
        "print('Gradiente en theta inicial (primeros 5 valores):', grad[:5])\n",
        "\n",
        "# Entrenamos el modelo con descenso de gradiente\n",
        "alpha = 0.01\n",
        "num_iters = 1000\n",
        "\n",
        "theta, J_history = descensoGradiente(initial_theta, X, y, alpha, num_iters)\n"
      ]
    },
    {
      "cell_type": "code",
      "execution_count": 23,
      "metadata": {
        "colab": {
          "base_uri": "https://localhost:8080/"
        },
        "id": "4Um8ITq2JVNj",
        "outputId": "c1f30341-8e21-4f76-80f1-540c4868e37a"
      },
      "outputs": [
        {
          "data": {
            "image/png": "[encoded data removed]",
            "text/plain": [
              "<Figure size 640x480 with 1 Axes>"
            ]
          },
          "metadata": {},
          "output_type": "display_data"
        },
        {
          "name": "stdout",
          "output_type": "stream",
          "text": [
            "Theta calculado por el descenso por el gradiente: [-1.21488776 -0.21693041  0.51241996  0.26545463  0.12197112 -0.44783407\n",
            "  0.41834477 -0.30463069  0.26755905 -0.14697741]\n"
          ]
        }
      ],
      "source": [
        "# Graficamos la convergencia del costo\n",
        "pyplot.plot(np.arange(len(J_history)), J_history, lw=2)\n",
        "pyplot.xlabel('Número de iteraciones')\n",
        "pyplot.ylabel('Costo J')\n",
        "pyplot.title('Convergencia del descenso de gradiente')\n",
        "pyplot.show()\n",
        "\n",
        "# Mostramos los parámetros obtenidos\n",
        "print('Theta calculado por el descenso por el gradiente:', theta)"
      ]
    },
    {
      "cell_type": "markdown",
      "metadata": {
        "id": "7AeXffwpJVNj"
      },
      "source": [
        "#### 1.2.3 Evaluación del modelo\n",
        "\n",
        "Después de aprender los parámetros, usaremos el modelo para predecir si un tumor con ciertas características es benigno o maligno. Evaluaremos la calidad de nuestro modelo viendo qué tan bien predice en nuestro conjunto de entrenamiento."
      ]
    },
    {
      "cell_type": "code",
      "execution_count": 24,
      "metadata": {
        "colab": {
          "base_uri": "https://localhost:8080/"
        },
        "id": "sB2xAu03JVNj",
        "outputId": "0bc293c8-ccb8-426b-e8a2-8317b8e3a086",
        "scrolled": true
      },
      "outputs": [
        {
          "name": "stdout",
          "output_type": "stream",
          "text": [
            "Precisión del modelo en el conjunto de entrenamiento: 93.85 %\n"
          ]
        }
      ],
      "source": [
        "def predict(theta, X):\n",
        "    \"\"\"\n",
        "    Predecir si la etiqueta es 0 o 1 mediante la regresión logística entrenada\n",
        "    \"\"\"\n",
        "    m = X.shape[0] # Número de ejemplos de entrenamiento\n",
        "    p = np.zeros(m)\n",
        "    p = np.round(sigmoid(X.dot(theta.T)))\n",
        "    return p\n",
        "\n",
        "# Calculamos la precisión en el conjunto de entrenamiento\n",
        "p = predict(theta, X)\n",
        "print('Precisión del modelo en el conjunto de entrenamiento: {:.2f} %'.format(np.mean(p == y) * 100))\n"
      ]
    },
    {
      "cell_type": "code",
      "execution_count": 25,
      "metadata": {
        "id": "_mDWAzqxJVNk"
      },
      "outputs": [
        {
          "name": "stdout",
          "output_type": "stream",
          "text": [
            "Para un paciente con las características dadas, la probabilidad de que el tumor sea maligno es: 6.47%\n"
          ]
        }
      ],
      "source": [
        "# Ahora probemos un ejemplo específico\n",
        "# Supongamos que tenemos un nuevo paciente con estos valores:\n",
        "# Grosor del Conglomerado: 5\n",
        "# Uniformidad del Tamaño Celular: 1\n",
        "# ... (y así sucesivamente para todas las características)\n",
        "# Recordemos que necesitamos agregar un 1 para el término de intercepción\n",
        "ejemplo_nuevo = np.array([1, 5, 1, 1, 1, 2, 1, 3, 1, 1])\n",
        "probabilidad_maligno = sigmoid(np.dot(ejemplo_nuevo, theta))\n",
        "print('Para un paciente con las características dadas, la probabilidad de que el tumor sea maligno es: {:.2f}%'.format(probabilidad_maligno * 100))"
      ]
    },
    {
      "cell_type": "markdown",
      "metadata": {},
      "source": [
        "### 1.3 Visualización de la Frontera de Decisión\n",
        "\n",
        "Para visualizar mejor cómo funciona nuestra regresión logística, vamos a graficar la frontera de decisión."
      ]
    },
    {
      "cell_type": "code",
      "execution_count": 26,
      "metadata": {
        "colab": {
          "base_uri": "https://localhost:8080/",
          "height": 470
        },
        "id": "Q6oQNi0CJVNk",
        "outputId": "c3ac4f66-b39e-431e-9a3e-4811ddad1997"
      },
      "outputs": [
        {
          "data": {
            "image/png": "[encoded data removed]",
            "text/plain": [
              "<Figure size 640x480 with 1 Axes>"
            ]
          },
          "metadata": {},
          "output_type": "display_data"
        }
      ],
      "source": [
        "def plotDecisionBoundary(theta, X, y):\n",
        "    \"\"\"\n",
        "    Grafica los puntos X y y en una nueva figura con la frontera de decisión\n",
        "    definida por theta.\n",
        "    \n",
        "    Parámetros\n",
        "    ----------\n",
        "    theta : array_like\n",
        "        Parámetros de la regresión logística.\n",
        "        \n",
        "    X : array_like\n",
        "        Datos de entrada. Aquí solo usamos las dos primeras características.\n",
        "        \n",
        "    y : array_like\n",
        "        Etiquetas de clase (0 o 1).\n",
        "    \"\"\"\n",
        "    # Configuramos la figura\n",
        "    plotData(X[:, :2], y)\n",
        "    \n",
        "    # Si X solo tiene dos características\n",
        "    if X.shape[1] <= 3:\n",
        "        # Calculamos dos puntos para dibujar la línea de decisión\n",
        "        plot_x = np.array([min(X[:, 1])-2, max(X[:, 1])+2])\n",
        "        \n",
        "        # Calculamos los puntos correspondientes de y en la frontera de decisión\n",
        "        # donde theta[0] + theta[1]*x1 + theta[2]*x2 = 0\n",
        "        # Despejamos x2:\n",
        "        # theta[2]*x2 = -theta[0] - theta[1]*x1\n",
        "        # x2 = (-theta[0] - theta[1]*x1) / theta[2]\n",
        "        plot_y = (-1.0 / theta[2]) * (theta[1] * plot_x + theta[0])\n",
        "        \n",
        "        # Graficamos y ajustamos los ejes para mejor visualización\n",
        "        pyplot.plot(plot_x, plot_y, 'k-', linewidth=2)\n",
        "        pyplot.xlim([X[:, 1].min()-1, X[:, 1].max()+1])\n",
        "        pyplot.ylim([X[:, 2].min()-1, X[:, 2].max()+1])\n",
        "        \n",
        "        pyplot.xlabel('Grosor del Conglomerado')\n",
        "        pyplot.ylabel('Uniformidad del Tamaño Celular')\n",
        "        pyplot.legend(['Maligno', 'Benigno', 'Frontera de Decisión'])\n",
        "        pyplot.title('Clasificación de Tumores con Regresión Logística')\n",
        "\n",
        "# Necesitamos un conjunto simplificado de datos para visualizar (solo dos características)\n",
        "X_viz_boundary = X[:, :3]  # Incluye la columna de unos y las dos primeras características reales\n",
        "theta_viz = theta[:3]      # Solo los primeros tres parámetros de theta\n",
        "\n",
        "plotDecisionBoundary(theta_viz, X_viz_boundary, y)\n",
        "pyplot.show()"
      ]
    }
  ],
  "metadata": {
    "colab": {
      "provenance": []
    },
    "kernelspec": {
      "display_name": "Python 3",
      "language": "python",
      "name": "python3"
    },
    "language_info": {
      "codemirror_mode": {
        "name": "ipython",
        "version": 3
      },
      "file_extension": ".py",
      "mimetype": "text/x-python",
      "name": "python",
      "nbconvert_exporter": "python",
      "pygments_lexer": "ipython3",
      "version": "3.12.5"
    }
  },
  "nbformat": 4,
  "nbformat_minor": 0
}
